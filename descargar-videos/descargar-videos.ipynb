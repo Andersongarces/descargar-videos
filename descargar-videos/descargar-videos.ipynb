{
 "cells": [
  {
   "cell_type": "code",
   "execution_count": 4,
   "metadata": {},
   "outputs": [],
   "source": [
    "import yt_dlp "
   ]
  },
  {
   "cell_type": "markdown",
   "metadata": {},
   "source": [
    "## Descargar videos"
   ]
  },
  {
   "cell_type": "code",
   "execution_count": 9,
   "metadata": {},
   "outputs": [
    {
     "name": "stdout",
     "output_type": "stream",
     "text": [
      "[youtube] Extracting URL: https://www.youtube.com/watch?v=Sy4DDCZnZuY\n",
      "[youtube] Sy4DDCZnZuY: Downloading webpage\n"
     ]
    },
    {
     "name": "stdout",
     "output_type": "stream",
     "text": [
      "[youtube] Sy4DDCZnZuY: Downloading ios player API JSON\n",
      "[youtube] Sy4DDCZnZuY: Downloading android player API JSON\n",
      "[youtube] Sy4DDCZnZuY: Downloading m3u8 information\n",
      "[info] Sy4DDCZnZuY: Downloading 1 format(s): 137+251\n",
      "[download] Destination: Intervalos en GeoGebra [Sy4DDCZnZuY].f137.mp4\n",
      "[download] 100% of    2.93MiB in 00:00:00 at 6.37MiB/s   \n",
      "[download] Destination: Intervalos en GeoGebra [Sy4DDCZnZuY].f251.webm\n",
      "[download] 100% of    1.13MiB in 00:00:00 at 5.37MiB/s   \n",
      "[Merger] Merging formats into \"Intervalos en GeoGebra [Sy4DDCZnZuY].mkv\"\n",
      "Deleting original file Intervalos en GeoGebra [Sy4DDCZnZuY].f137.mp4 (pass -k to keep)\n",
      "Deleting original file Intervalos en GeoGebra [Sy4DDCZnZuY].f251.webm (pass -k to keep)\n",
      "Video dowloaded succesfully\n"
     ]
    }
   ],
   "source": [
    "url = \"https://www.youtube.com/watch?v=Sy4DDCZnZuY\"\n",
    "\n",
    "yt_opts = {}\n",
    "\n",
    "with yt_dlp.YoutubeDL(yt_opts) as ydl:\n",
    "    ydl.download([url])\n",
    "\n",
    "print(\"Video dowloaded succesfully\")"
   ]
  },
  {
   "cell_type": "markdown",
   "metadata": {},
   "source": [
    "## Descargar videos y convertirlos en formato mp4"
   ]
  },
  {
   "cell_type": "code",
   "execution_count": 5,
   "metadata": {},
   "outputs": [
    {
     "name": "stdout",
     "output_type": "stream",
     "text": [
      "[youtube] Extracting URL: https://www.youtube.com/watch?v=Sy4DDCZnZuY\n",
      "[youtube] Sy4DDCZnZuY: Downloading webpage\n",
      "[youtube] Sy4DDCZnZuY: Downloading ios player API JSON\n",
      "[youtube] Sy4DDCZnZuY: Downloading android player API JSON\n",
      "[youtube] Sy4DDCZnZuY: Downloading m3u8 information\n",
      "[info] Sy4DDCZnZuY: Downloading 1 format(s): 137+140\n",
      "[download] Destination: Intervalos en GeoGebra [Sy4DDCZnZuY].f137.mp4\n",
      "[download] 100% of    2.93MiB in 00:00:00 at 7.35MiB/s   \n",
      "[download] Destination: Intervalos en GeoGebra [Sy4DDCZnZuY].f140.m4a\n",
      "[download] 100% of    1.06MiB in 00:00:01 at 647.21KiB/s \n",
      "[Merger] Merging formats into \"Intervalos en GeoGebra [Sy4DDCZnZuY].mp4\"\n",
      "Deleting original file Intervalos en GeoGebra [Sy4DDCZnZuY].f140.m4a (pass -k to keep)\n",
      "Deleting original file Intervalos en GeoGebra [Sy4DDCZnZuY].f137.mp4 (pass -k to keep)\n",
      "Video downloaded successfully\n"
     ]
    }
   ],
   "source": [
    "\n",
    "\n",
    "url = \"https://www.youtube.com/watch?v=Sy4DDCZnZuY\"\n",
    "\n",
    "yt_opts = {\n",
    "    'format': 'bestvideo[ext=mp4]+bestaudio[ext=m4a]/mp4'\n",
    "}\n",
    "\n",
    "with yt_dlp.YoutubeDL(yt_opts) as ydl:\n",
    "    ydl.download([url])\n",
    "\n",
    "print(\"Video downloaded successfully\")\n"
   ]
  }
 ],
 "metadata": {
  "kernelspec": {
   "display_name": "Python 3",
   "language": "python",
   "name": "python3"
  },
  "language_info": {
   "codemirror_mode": {
    "name": "ipython",
    "version": 3
   },
   "file_extension": ".py",
   "mimetype": "text/x-python",
   "name": "python",
   "nbconvert_exporter": "python",
   "pygments_lexer": "ipython3",
   "version": "3.11.7"
  }
 },
 "nbformat": 4,
 "nbformat_minor": 2
}
